{
 "cells": [
  {
   "cell_type": "markdown",
   "id": "65948511",
   "metadata": {},
   "source": [
    "# (PART) STATISTICAL ANALYSIS {-}\n",
    "\n",
    "# What are summary statistics and how do you compute them?"
   ]
  },
  {
   "cell_type": "markdown",
   "id": "9921e878",
   "metadata": {},
   "source": [
    "## Explanation\n",
    "\n",
    "Summary statistics provide a quick overview of the distribution and central tendency of a dataset. They include measures like mean, median, mode, standard deviation, min, max, and quantiles."
   ]
  },
  {
   "cell_type": "markdown",
   "id": "7a4e0890",
   "metadata": {},
   "source": [
    "## Python Code"
   ]
  },
  {
   "cell_type": "code",
   "execution_count": null,
   "id": "2cd1b4fe",
   "metadata": {},
   "outputs": [],
   "source": [
    "import pandas as pd\n",
    "\n",
    "# Load sample data\n",
    "df = pd.read_csv(\"data/iris.csv\")\n",
    "\n",
    "# Summary statistics\n",
    "summary = df.describe()\n",
    "print(summary)\n"
   ]
  },
  {
   "cell_type": "markdown",
   "id": "271da0ff",
   "metadata": {},
   "source": [
    "## R Code\n",
    "\n",
    "```{r}\n",
    "library(readr)\n",
    "library(dplyr)\n",
    "\n",
    "# Load sample data\n",
    "df <- read_csv(\"data/iris.csv\")\n",
    "\n",
    "# Summary statistics\n",
    "summary(df)\n",
    "```"
   ]
  },
  {
   "cell_type": "markdown",
   "id": "1d6a2056",
   "metadata": {},
   "source": [
    "# How do you test if the mean of two groups is significantly different?"
   ]
  },
  {
   "cell_type": "markdown",
   "id": "b4aae2d2",
   "metadata": {},
   "source": [
    "## Explanation\n",
    "\n",
    "You can use a t-test to compare the means of two independent groups. This test checks whether the difference in means is statistically significant."
   ]
  },
  {
   "cell_type": "markdown",
   "id": "811c0642",
   "metadata": {},
   "source": [
    "## Python Code"
   ]
  },
  {
   "cell_type": "code",
   "execution_count": null,
   "id": "41d07c58",
   "metadata": {},
   "outputs": [],
   "source": [
    "import pandas as pd\n",
    "from scipy.stats import ttest_ind\n",
    "\n",
    "# Load sample data\n",
    "df = pd.read_csv(\"data/iris.csv\")\n",
    "\n",
    "# t-test between two species\n",
    "group1 = df[df['species'] == 'setosa']['sepal_length']\n",
    "group2 = df[df['species'] == 'versicolor']['sepal_length']\n",
    "\n",
    "t_stat, p_val = ttest_ind(group1, group2)\n",
    "print(f\"T-statistic: {t_stat}, P-value: {p_val}\")\n"
   ]
  },
  {
   "cell_type": "markdown",
   "id": "6ae31034",
   "metadata": {},
   "source": [
    "## R Code\n",
    "\n",
    "```{r}\n",
    "library(readr)\n",
    "library(dplyr)\n",
    "\n",
    "# Load data\n",
    "df <- read_csv(\"data/iris.csv\")\n",
    "\n",
    "# t-test between two species\n",
    "setosa <- df %>% filter(species == \"setosa\") %>% pull(sepal_length)\n",
    "versicolor <- df %>% filter(species == \"versicolor\") %>% pull(sepal_length)\n",
    "\n",
    "t.test(setosa, versicolor)\n",
    "```"
   ]
  },
  {
   "cell_type": "markdown",
   "id": "bf4b77e3",
   "metadata": {},
   "source": [
    "# How do you compute the correlation between two variables?"
   ]
  },
  {
   "cell_type": "markdown",
   "id": "f0914b54",
   "metadata": {},
   "source": [
    "## Explanation\n",
    "\n",
    "Correlation measures the strength and direction of a linear relationship between two variables. The Pearson correlation coefficient ranges from -1 to 1."
   ]
  },
  {
   "cell_type": "markdown",
   "id": "6d9fdeea",
   "metadata": {},
   "source": [
    "## Python Code"
   ]
  },
  {
   "cell_type": "code",
   "execution_count": null,
   "id": "6a4e8f40",
   "metadata": {},
   "outputs": [],
   "source": [
    "import pandas as pd\n",
    "\n",
    "# Load sample data\n",
    "df = pd.read_csv(\"data/iris.csv\")\n",
    "\n",
    "# Pearson correlation between sepal length and sepal width\n",
    "correlation = df[\"sepal_length\"].corr(df[\"sepal_width\"])\n",
    "print(\"Correlation:\", correlation)\n"
   ]
  },
  {
   "cell_type": "markdown",
   "id": "ca9b3d87",
   "metadata": {},
   "source": [
    "## R Code\n",
    "\n",
    "```{r}\n",
    "library(readr)\n",
    "\n",
    "# Load sample data\n",
    "df <- read_csv(\"data/iris.csv\")\n",
    "\n",
    "# Pearson correlation\n",
    "cor(df$sepal_length, df$sepal_width)\n",
    "```"
   ]
  },
  {
   "cell_type": "markdown",
   "id": "b2ffe7e5",
   "metadata": {},
   "source": [
    "# What is a confidence interval and how do you calculate it?"
   ]
  },
  {
   "cell_type": "markdown",
   "id": "f1eb7abd",
   "metadata": {},
   "source": [
    "## Explanation\n",
    "\n",
    "A confidence interval provides a range of values that is likely to contain the population parameter. Typically, a 95% confidence interval is used to estimate the mean."
   ]
  },
  {
   "cell_type": "markdown",
   "id": "aaf9d1d1",
   "metadata": {},
   "source": [
    "## Python Code"
   ]
  },
  {
   "cell_type": "code",
   "execution_count": null,
   "id": "07fb4256",
   "metadata": {},
   "outputs": [],
   "source": [
    "import pandas as pd\n",
    "from scipy import stats\n",
    "import numpy as np\n",
    "\n",
    "# Load sample data\n",
    "df = pd.read_csv(\"data/iris.csv\")\n",
    "data = df[\"sepal_length\"]\n",
    "\n",
    "# Compute 95% confidence interval\n",
    "mean = np.mean(data)\n",
    "sem = stats.sem(data)\n",
    "conf_int = stats.t.interval(0.95, len(data)-1, loc=mean, scale=sem)\n",
    "\n",
    "print(f\"95% Confidence Interval: {conf_int}\")\n"
   ]
  },
  {
   "cell_type": "markdown",
   "id": "48b2e216",
   "metadata": {},
   "source": [
    "## R Code\n",
    "\n",
    "```{r}\n",
    "library(readr)\n",
    "\n",
    "# Load sample data\n",
    "df <- read_csv(\"data/iris.csv\")\n",
    "data <- df$sepal_length\n",
    "\n",
    "# 95% confidence interval\n",
    "t.test(data)$conf.int\n",
    "```"
   ]
  },
  {
   "cell_type": "markdown",
   "id": "3da3db45",
   "metadata": {},
   "source": [
    "# How do you perform a one-way ANOVA?"
   ]
  },
  {
   "cell_type": "markdown",
   "id": "d7c70a2f",
   "metadata": {},
   "source": [
    "## Explanation\n",
    "\n",
    "ANOVA (Analysis of Variance) is used to compare means across more than two groups. It tests the null hypothesis that all groups have the same mean."
   ]
  },
  {
   "cell_type": "markdown",
   "id": "11e1b965",
   "metadata": {},
   "source": [
    "## Python Code"
   ]
  },
  {
   "cell_type": "code",
   "execution_count": null,
   "id": "76911e95",
   "metadata": {},
   "outputs": [],
   "source": [
    "import pandas as pd\n",
    "from scipy.stats import f_oneway\n",
    "\n",
    "# Load sample data\n",
    "df = pd.read_csv(\"data/iris.csv\")\n",
    "\n",
    "# Group by species\n",
    "setosa = df[df[\"species\"] == \"setosa\"][\"sepal_length\"]\n",
    "versicolor = df[df[\"species\"] == \"versicolor\"][\"sepal_length\"]\n",
    "virginica = df[df[\"species\"] == \"virginica\"][\"sepal_length\"]\n",
    "\n",
    "# Perform ANOVA\n",
    "f_stat, p_val = f_oneway(setosa, versicolor, virginica)\n",
    "print(f\"F-statistic: {f_stat}, P-value: {p_val}\")\n"
   ]
  },
  {
   "cell_type": "markdown",
   "id": "f7018ded",
   "metadata": {},
   "source": [
    "## R Code\n",
    "\n",
    "```{r}\n",
    "library(readr)\n",
    "\n",
    "# Load sample data\n",
    "df <- read_csv(\"data/iris.csv\")\n",
    "\n",
    "# Perform one-way ANOVA\n",
    "anova_result <- aov(sepal_length ~ species, data = df)\n",
    "summary(anova_result)\n",
    "```"
   ]
  },
  {
   "cell_type": "markdown",
   "id": "269e4bb5",
   "metadata": {},
   "source": [
    "# How do you interpret a p-value in hypothesis testing?"
   ]
  },
  {
   "cell_type": "markdown",
   "id": "22b481d9",
   "metadata": {},
   "source": [
    "## Explanation\n",
    "\n",
    "The p-value represents the probability of observing the data (or something more extreme) if the null hypothesis is true. A smaller p-value indicates stronger evidence against the null hypothesis."
   ]
  },
  {
   "cell_type": "markdown",
   "id": "d760ee08",
   "metadata": {},
   "source": [
    "## Python Code"
   ]
  },
  {
   "cell_type": "code",
   "execution_count": null,
   "id": "6856d8ae",
   "metadata": {},
   "outputs": [],
   "source": [
    "# P-value is typically output by test functions, e.g., t-test, ANOVA\n",
    "# Interpret p < 0.05 as statistically significant\n",
    "print(\"If p < 0.05, we reject the null hypothesis.\")\n"
   ]
  },
  {
   "cell_type": "markdown",
   "id": "d80ccef2",
   "metadata": {},
   "source": [
    "## R Code\n",
    "\n",
    "```{r}\n",
    "# P-values are returned by tests such as t.test or aov\n",
    "# Print interpretation guide\n",
    "cat(\"If p < 0.05, we reject the null hypothesis.\\n\")\n",
    "```"
   ]
  },
  {
   "cell_type": "markdown",
   "id": "81526614",
   "metadata": {},
   "source": [
    "# What are summary statistics and how do you compute them?"
   ]
  },
  {
   "cell_type": "markdown",
   "id": "75833368",
   "metadata": {},
   "source": [
    "## Explanation\n",
    "\n",
    "Summary statistics provide a quick overview of the distribution and central tendency of a dataset. They include measures like mean, median, mode, standard deviation, min, max, and quantiles."
   ]
  },
  {
   "cell_type": "markdown",
   "id": "cbd2d3f7",
   "metadata": {},
   "source": [
    "## Python Code"
   ]
  },
  {
   "cell_type": "code",
   "execution_count": null,
   "id": "c8894fed",
   "metadata": {},
   "outputs": [],
   "source": [
    "import pandas as pd\n",
    "\n",
    "# Load sample data\n",
    "df = pd.read_csv(\"data/iris.csv\")\n",
    "\n",
    "# Summary statistics\n",
    "summary = df.describe()\n",
    "print(summary)\n"
   ]
  },
  {
   "cell_type": "markdown",
   "id": "77a96c9e",
   "metadata": {},
   "source": [
    "## R Code\n",
    "\n",
    "```{r}\n",
    "library(readr)\n",
    "library(dplyr)\n",
    "\n",
    "# Load sample data\n",
    "df <- read_csv(\"data/iris.csv\")\n",
    "\n",
    "# Summary statistics\n",
    "summary(df)\n",
    "```"
   ]
  },
  {
   "cell_type": "markdown",
   "id": "422a4017",
   "metadata": {},
   "source": [
    "# How do you test if the mean of two groups is significantly different?\n",
    "## Explanation\n",
    "\n",
    "You can use a t-test to compare the means of two independent groups. This test checks whether the difference in means is statistically significant.\n",
    "## Python Code"
   ]
  },
  {
   "cell_type": "code",
   "execution_count": null,
   "id": "55f81e18",
   "metadata": {},
   "outputs": [],
   "source": [
    "import pandas as pd\n",
    "from scipy.stats import ttest_ind\n",
    "\n",
    "# Load sample data\n",
    "df = pd.read_csv(\"data/iris.csv\")\n",
    "\n",
    "# t-test between two species\n",
    "group1 = df[df['species'] == 'setosa']['sepal_length']\n",
    "group2 = df[df['species'] == 'versicolor']['sepal_length']\n",
    "\n",
    "t_stat, p_val = ttest_ind(group1, group2)\n",
    "print(f\"T-statistic: {t_stat}, P-value: {p_val}\")\n"
   ]
  },
  {
   "cell_type": "markdown",
   "id": "2359e796",
   "metadata": {},
   "source": [
    "## R Code\n",
    "\n",
    "```{r}\n",
    "library(readr)\n",
    "library(dplyr)\n",
    "\n",
    "# Load data\n",
    "df <- read_csv(\"data/iris.csv\")\n",
    "\n",
    "# t-test between two species\n",
    "setosa <- df %>% filter(species == \"setosa\") %>% pull(sepal_length)\n",
    "versicolor <- df %>% filter(species == \"versicolor\") %>% pull(sepal_length)\n",
    "\n",
    "t.test(setosa, versicolor)\n",
    "```"
   ]
  },
  {
   "cell_type": "markdown",
   "id": "04e1e991",
   "metadata": {},
   "source": [
    "# How do you compute the correlation between two variables?\n",
    "## Explanation\n",
    "\n",
    "Correlation measures the strength and direction of a linear relationship between two variables. The Pearson correlation coefficient ranges from -1 to 1.\n",
    "## Python Code"
   ]
  },
  {
   "cell_type": "code",
   "execution_count": null,
   "id": "849161ad",
   "metadata": {},
   "outputs": [],
   "source": [
    "import pandas as pd\n",
    "\n",
    "# Load sample data\n",
    "df = pd.read_csv(\"data/iris.csv\")\n",
    "\n",
    "# Pearson correlation between sepal length and sepal width\n",
    "correlation = df[\"sepal_length\"].corr(df[\"sepal_width\"])\n",
    "print(\"Correlation:\", correlation)\n"
   ]
  },
  {
   "cell_type": "markdown",
   "id": "153679a1",
   "metadata": {},
   "source": [
    "## R Code\n",
    "\n",
    "```{r}\n",
    "library(readr)\n",
    "\n",
    "# Load sample data\n",
    "df <- read_csv(\"data/iris.csv\")\n",
    "\n",
    "# Pearson correlation\n",
    "cor(df$sepal_length, df$sepal_width)\n",
    "```"
   ]
  },
  {
   "cell_type": "markdown",
   "id": "abc3aa76",
   "metadata": {},
   "source": [
    "# What is a confidence interval and how do you calculate it?\n",
    "## Explanation\n",
    "\n",
    "A confidence interval provides a range of values that is likely to contain the population parameter. Typically, a 95% confidence interval is used to estimate the mean.\n",
    "## Python Code"
   ]
  },
  {
   "cell_type": "code",
   "execution_count": null,
   "id": "bf5932c6",
   "metadata": {},
   "outputs": [],
   "source": [
    "import pandas as pd\n",
    "from scipy import stats\n",
    "import numpy as np\n",
    "\n",
    "# Load sample data\n",
    "df = pd.read_csv(\"data/iris.csv\")\n",
    "data = df[\"sepal_length\"]\n",
    "\n",
    "# Compute 95% confidence interval\n",
    "mean = np.mean(data)\n",
    "sem = stats.sem(data)\n",
    "conf_int = stats.t.interval(0.95, len(data)-1, loc=mean, scale=sem)\n",
    "\n",
    "print(f\"95% Confidence Interval: {conf_int}\")\n"
   ]
  },
  {
   "cell_type": "markdown",
   "id": "d49e7705",
   "metadata": {},
   "source": [
    "## R Code\n",
    "\n",
    "```{r}\n",
    "library(readr)\n",
    "\n",
    "# Load sample data\n",
    "df <- read_csv(\"data/iris.csv\")\n",
    "data <- df$sepal_length\n",
    "\n",
    "# 95% confidence interval\n",
    "t.test(data)$conf.int\n",
    "```"
   ]
  },
  {
   "cell_type": "markdown",
   "id": "d06f5da5",
   "metadata": {},
   "source": [
    "# How do you use a chi-squared test to determine if two categorical variables are independent?\n",
    "\n",
    "## Explanation\n",
    "\n",
    "This question demonstrates how to perform a chi-squared test of independence to assess the relationship between two categorical variables. The chi-squared statistic tests whether distributions of categorical variables differ from each other, based on a contingency table.\n",
    "\n",
    "## Python Code"
   ]
  },
  {
   "cell_type": "code",
   "execution_count": null,
   "id": "0acb1532",
   "metadata": {},
   "outputs": [],
   "source": [
    "import pandas as pd\n",
    "import scipy.stats as stats\n",
    "\n",
    "# Sample contingency table\n",
    "data = pd.DataFrame({\n",
    "    \"A\": [20, 15],\n",
    "    \"B\": [30, 35]\n",
    "}, index=[\"Yes\", \"No\"])\n",
    "\n",
    "# Chi-squared test\n",
    "chi2, p, dof, expected = stats.chi2_contingency(data)\n",
    "print(f\"Chi2: {chi2:.2f}, p-value: {p:.4f}\")"
   ]
  },
  {
   "cell_type": "markdown",
   "id": "92eb2ce9",
   "metadata": {},
   "source": [
    "## R Code  \n",
    "\n",
    "```{r}\n",
    "# Create a contingency table\n",
    "data <- matrix(c(20, 30, 15, 35), nrow = 2, byrow = TRUE)\n",
    "colnames(data) <- c(\"A\", \"B\")\n",
    "rownames(data) <- c(\"Yes\", \"No\")\n",
    "\n",
    "# Perform chi-squared test\n",
    "test <- chisq.test(data)\n",
    "test\n",
    "```"
   ]
  }
 ],
 "metadata": {
  "kernelspec": {
   "display_name": "Python 3",
   "language": "python",
   "name": "python3"
  },
  "language_info": {
   "codemirror_mode": {
    "name": "ipython",
    "version": 3
   },
   "file_extension": ".py",
   "mimetype": "text/x-python",
   "name": "python",
   "nbconvert_exporter": "python",
   "pygments_lexer": "ipython3",
   "version": "3.12.6"
  }
 },
 "nbformat": 4,
 "nbformat_minor": 5
}
