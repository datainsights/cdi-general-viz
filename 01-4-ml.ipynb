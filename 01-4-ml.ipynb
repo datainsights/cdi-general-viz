{
 "cells": [
  {
   "cell_type": "markdown",
   "id": "076e1eba",
   "metadata": {},
   "source": [
    "# (PART) MACHINE LEARNING {-}"
   ]
  },
  {
   "cell_type": "markdown",
   "id": "0f99f0aa",
   "metadata": {},
   "source": [
    "# What is the goal of supervised learning?"
   ]
  },
  {
   "cell_type": "markdown",
   "id": "6d249fbb",
   "metadata": {},
   "source": [
    "## Explanation\n",
    "\n",
    "Supervised learning aims to learn a mapping from input features (X) to a target variable (y), based on labeled training data. The model can then make predictions on new, unseen data."
   ]
  },
  {
   "cell_type": "code",
   "execution_count": null,
   "id": "fd2ec253",
   "metadata": {},
   "outputs": [],
   "source": [
    "## Python Code\n",
    "# Supervised learning example: simple linear regression\n",
    "from sklearn.linear_model import LinearRegression\n",
    "import pandas as pd\n",
    "\n",
    "# Sample data\n",
    "df = pd.DataFrame({\n",
    "    \"X\": [1, 2, 3, 4, 5],\n",
    "    \"y\": [2, 4, 6, 8, 10]\n",
    "})\n",
    "\n",
    "model = LinearRegression()\n",
    "model.fit(df[[\"X\"]], df[\"y\"])\n",
    "print(\"Model coefficient:\", model.coef_[0])\n"
   ]
  },
  {
   "cell_type": "markdown",
   "id": "40a12423",
   "metadata": {},
   "source": [
    "## R Code\n",
    "\n",
    "```{r}\n",
    "# Supervised learning example: simple linear regression\n",
    "df <- data.frame(X = 1:5, y = c(2, 4, 6, 8, 10))\n",
    "model <- lm(y ~ X, data = df)\n",
    "summary(model)\n",
    "\n",
    "```"
   ]
  },
  {
   "cell_type": "markdown",
   "id": "0440904f",
   "metadata": {},
   "source": [
    "# How do you split a dataset into training and test sets?"
   ]
  },
  {
   "cell_type": "markdown",
   "id": "d66a9664",
   "metadata": {},
   "source": [
    "## Explanation\n",
    "\n",
    "Splitting the data allows you to train a model on one portion and evaluate it on another, unseen portion. This helps estimate real-world performance."
   ]
  },
  {
   "cell_type": "code",
   "execution_count": null,
   "id": "8b12e930",
   "metadata": {},
   "outputs": [],
   "source": [
    "## Python Code\n",
    "from sklearn.model_selection import train_test_split\n",
    "import pandas as pd\n",
    "\n",
    "df = pd.read_csv(\"data/iris.csv\")\n",
    "X = df.drop(\"species\", axis=1)\n",
    "y = df[\"species\"]\n",
    "\n",
    "X_train, X_test, y_train, y_test = train_test_split(X, y, test_size=0.3, random_state=42)\n",
    "print(\"Training set size:\", len(X_train))\n"
   ]
  },
  {
   "cell_type": "markdown",
   "id": "c99664c2",
   "metadata": {},
   "source": [
    "## R Code\n",
    "\n",
    "```{r}\n",
    "library(caret)\n",
    "data <- readr::read_csv(\"data/iris.csv\")\n",
    "set.seed(42)\n",
    "train_index <- createDataPartition(data$species, p = 0.7, list = FALSE)\n",
    "train <- data[train_index, ]\n",
    "test <- data[-train_index, ]\n",
    "nrow(train)\n",
    "\n",
    "```"
   ]
  },
  {
   "cell_type": "markdown",
   "id": "7ca3d051",
   "metadata": {},
   "source": [
    "# How do you train a classification model using logistic regression?\n",
    "\n",
    "## Explanation\n",
    "\n",
    "Logistic regression is a linear model used for binary and multi-class classification problems. It estimates probabilities using the logistic function. For binary classification, the target must have only two classes. For multi-class, specialized implementations like multinomial logistic regression are used.\n",
    "\n",
    "## Python Code\n"
   ]
  },
  {
   "cell_type": "code",
   "execution_count": null,
   "id": "a103f35f",
   "metadata": {},
   "outputs": [],
   "source": [
    "import pandas as pd\n",
    "from sklearn.linear_model import LogisticRegression\n",
    "from sklearn.model_selection import train_test_split\n",
    "\n",
    "# Load dataset from local path\n",
    "df = pd.read_csv(\"data/iris.csv\")\n",
    "\n",
    "# Subset for binary classification (e.g., setosa vs versicolor)\n",
    "binary_df = df[df[\"species\"].isin([\"setosa\", \"versicolor\"])].copy()\n",
    "binary_df[\"species\"] = binary_df[\"species\"].map({\"setosa\": 0, \"versicolor\": 1})\n",
    "\n",
    "# Split into train/test\n",
    "X = binary_df.drop(\"species\", axis=1)\n",
    "y = binary_df[\"species\"]\n",
    "X_train, X_test, y_train, y_test = train_test_split(X, y, test_size=0.3, random_state=42)\n",
    "\n",
    "# Train logistic regression model\n",
    "model = LogisticRegression()\n",
    "model.fit(X_train, y_train)\n",
    "\n",
    "# Evaluate model\n",
    "print(\"Accuracy:\", model.score(X_test, y_test))"
   ]
  },
  {
   "cell_type": "markdown",
   "id": "b03a9f4a",
   "metadata": {},
   "source": [
    "## R Code\n",
    "\n",
    "```{r}\n",
    "library(readr)\n",
    "library(caret)\n",
    "\n",
    "# Load dataset\n",
    "df <- read_csv(\"data/iris.csv\")\n",
    "\n",
    "# Subset for binary classification (setosa vs versicolor)\n",
    "df_bin <- subset(df, species %in% c(\"setosa\", \"versicolor\"))\n",
    "\n",
    "# Convert species to binary factor with correct level order\n",
    "df_bin$species <- factor(df_bin$species, levels = c(\"setosa\", \"versicolor\"))\n",
    "\n",
    "# Split into train/test\n",
    "set.seed(42)\n",
    "index <- createDataPartition(df_bin$species, p = 0.7, list = FALSE)\n",
    "train <- df_bin[index, ]\n",
    "test <- df_bin[-index, ]\n",
    "\n",
    "# Fit logistic regression model — now works because species has 2 levels\n",
    "model <- glm(species ~ sepal_length + sepal_width + petal_length + petal_width,\n",
    "             data = train, family = \"binomial\")\n",
    "\n",
    "# Predict probabilities\n",
    "pred_probs <- predict(model, newdata = test, type = \"response\")\n",
    "\n",
    "# Classify based on threshold\n",
    "predicted <- factor(ifelse(pred_probs > 0.5, \"versicolor\", \"setosa\"),\n",
    "                    levels = levels(test$species))\n",
    "\n",
    "# Evaluate\n",
    "confusionMatrix(predicted, test$species)\n",
    "```"
   ]
  },
  {
   "cell_type": "markdown",
   "id": "c87f548c",
   "metadata": {},
   "source": [
    "# How do you evaluate a classification model?\n",
    "\n",
    "## Explanation\n",
    "\n",
    "Evaluation metrics for classification include:\n",
    "\n",
    "- Accuracy: Proportion of correct predictions.\n",
    "- Precision: Of all predicted positives, how many were actually positive.\n",
    "- Recall (Sensitivity): Of all actual positives, how many were predicted positive.\n",
    "- F1-Score: Harmonic mean of precision and recall.\n",
    "- Confusion Matrix: Table showing correct vs incorrect predictions per class.\n",
    "\n",
    "These metrics give a more complete view than accuracy alone, especially for imbalanced datasets.\n",
    "\n",
    "\n",
    "## Python Code"
   ]
  },
  {
   "cell_type": "code",
   "execution_count": null,
   "id": "8896639e",
   "metadata": {},
   "outputs": [],
   "source": [
    "from sklearn.linear_model import LogisticRegression\n",
    "from sklearn.model_selection import train_test_split\n",
    "from sklearn.metrics import classification_report, confusion_matrix\n",
    "import pandas as pd\n",
    "\n",
    "# Load and subset iris dataset\n",
    "df = pd.read_csv(\"data/iris.csv\")\n",
    "\n",
    "# ✅ Use .copy() to avoid SettingWithCopyWarning when modifying DataFrame\n",
    "binary_df = df[df[\"species\"].isin([\"setosa\", \"versicolor\"])].copy()\n",
    "\n",
    "# Convert class labels to binary (0 = setosa, 1 = versicolor)\n",
    "binary_df[\"species\"] = binary_df[\"species\"].map({\"setosa\": 0, \"versicolor\": 1})\n",
    "\n",
    "# Split into training and test sets\n",
    "X = binary_df.drop(\"species\", axis=1)\n",
    "y = binary_df[\"species\"]\n",
    "X_train, X_test, y_train, y_test = train_test_split(X, y, test_size=0.3, random_state=42)\n",
    "\n",
    "# Train model\n",
    "model = LogisticRegression()\n",
    "model.fit(X_train, y_train)\n",
    "\n",
    "# Predict and evaluate\n",
    "y_pred = model.predict(X_test)\n",
    "\n",
    "# Print confusion matrix and full classification report\n",
    "print(\"Confusion Matrix:\\n\", confusion_matrix(y_test, y_pred))\n",
    "print(\"\\nClassification Report:\\n\", classification_report(y_test, y_pred))"
   ]
  },
  {
   "cell_type": "markdown",
   "id": "3db8afb0",
   "metadata": {},
   "source": [
    "## R Code\n",
    "\n",
    "```{r}\n",
    "library(readr)\n",
    "library(caret)\n",
    "\n",
    "# Load and subset iris dataset\n",
    "df <- read_csv(\"data/iris.csv\")\n",
    "df_bin <- subset(df, species %in% c(\"setosa\", \"versicolor\"))\n",
    "df_bin$species <- factor(df_bin$species, levels = c(\"setosa\", \"versicolor\"))\n",
    "\n",
    "# Split into training and test sets\n",
    "set.seed(42)\n",
    "index <- createDataPartition(df_bin$species, p = 0.7, list = FALSE)\n",
    "train <- df_bin[index, ]\n",
    "test <- df_bin[-index, ]\n",
    "\n",
    "# Train logistic regression model\n",
    "model <- glm(species ~ sepal_length + sepal_width + petal_length + petal_width,\n",
    "             data = train, family = \"binomial\")\n",
    "\n",
    "# Predict probabilities and convert to classes\n",
    "pred_probs <- predict(model, newdata = test, type = \"response\")\n",
    "predicted <- factor(ifelse(pred_probs > 0.5, \"versicolor\", \"setosa\"),\n",
    "                    levels = levels(test$species))\n",
    "\n",
    "# Evaluate using confusion matrix (includes accuracy, sensitivity, specificity, etc.)\n",
    "confusionMatrix(predicted, test$species)\n",
    "\n",
    "```"
   ]
  },
  {
   "cell_type": "markdown",
   "id": "182095a4",
   "metadata": {},
   "source": [
    "# How do you train a decision tree for prediction?\n",
    "\n",
    "## Explanation\n",
    "\n",
    "Decision trees are flexible models that recursively split the dataset based on feature values to form decision rules. For classification, they predict a class label; for regression, they predict a continuous value. Trees are interpretable and can handle both linear and non-linear patterns.\n",
    "\n",
    "## Python Code\n",
    "\n",
    "## R Code"
   ]
  },
  {
   "cell_type": "code",
   "execution_count": null,
   "id": "b17d1db1",
   "metadata": {},
   "outputs": [],
   "source": [
    "from sklearn.tree import DecisionTreeClassifier\n",
    "from sklearn.model_selection import train_test_split\n",
    "from sklearn.metrics import accuracy_score\n",
    "import pandas as pd\n",
    "\n",
    "# Load and subset iris dataset for binary classification\n",
    "df = pd.read_csv(\"data/iris.csv\")\n",
    "\n",
    "# ✅ Use .copy() to avoid SettingWithCopyWarning\n",
    "binary_df = df[df[\"species\"].isin([\"setosa\", \"versicolor\"])].copy()\n",
    "\n",
    "# Convert labels to binary (0 = setosa, 1 = versicolor)\n",
    "binary_df[\"species\"] = binary_df[\"species\"].map({\"setosa\": 0, \"versicolor\": 1})\n",
    "\n",
    "# Split into train/test\n",
    "X = binary_df.drop(\"species\", axis=1)\n",
    "y = binary_df[\"species\"]\n",
    "X_train, X_test, y_train, y_test = train_test_split(X, y, test_size=0.3, random_state=42)\n",
    "\n",
    "# Train decision tree classifier\n",
    "tree = DecisionTreeClassifier(max_depth=3)\n",
    "tree.fit(X_train, y_train)\n",
    "\n",
    "# Predict and evaluate\n",
    "y_pred = tree.predict(X_test)\n",
    "print(\"Accuracy:\", accuracy_score(y_test, y_pred))"
   ]
  },
  {
   "cell_type": "markdown",
   "id": "c862415c",
   "metadata": {},
   "source": [
    "## R Code\n",
    "\n",
    "```{r}\n",
    "library(readr)\n",
    "library(caret)\n",
    "library(rpart)\n",
    "\n",
    "# Load and subset iris dataset for binary classification\n",
    "df <- read_csv(\"data/iris.csv\")\n",
    "df_bin <- subset(df, species %in% c(\"setosa\", \"versicolor\"))\n",
    "df_bin$species <- factor(df_bin$species, levels = c(\"setosa\", \"versicolor\"))\n",
    "\n",
    "# Split into train/test\n",
    "set.seed(42)\n",
    "index <- createDataPartition(df_bin$species, p = 0.7, list = FALSE)\n",
    "train <- df_bin[index, ]\n",
    "test <- df_bin[-index, ]\n",
    "\n",
    "# Train decision tree\n",
    "tree_model <- rpart(species ~ ., data = train, method = \"class\", control = rpart.control(maxdepth = 3))\n",
    "\n",
    "# Predict and evaluate\n",
    "predicted <- predict(tree_model, newdata = test, type = \"class\")\n",
    "confusionMatrix(predicted, test$species)\n",
    "\n",
    "```"
   ]
  }
 ],
 "metadata": {
  "kernelspec": {
   "display_name": "Python 3",
   "language": "python",
   "name": "python3"
  },
  "language_info": {
   "codemirror_mode": {
    "name": "ipython",
    "version": 3
   },
   "file_extension": ".py",
   "mimetype": "text/x-python",
   "name": "python",
   "nbconvert_exporter": "python",
   "pygments_lexer": "ipython3",
   "version": "3.12.6"
  }
 },
 "nbformat": 4,
 "nbformat_minor": 5
}
